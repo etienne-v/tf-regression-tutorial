{
 "cells": [
  {
   "cell_type": "markdown",
   "metadata": {
    "deletable": true,
    "editable": true
   },
   "source": [
    "# TensorFlow Regression Tutorial"
   ]
  },
  {
   "cell_type": "markdown",
   "metadata": {
    "deletable": true,
    "editable": true
   },
   "source": [
    "This is a simple tutorial on how to use TensorFlow for performing linear and non-linear regression using gradient descent and stochastic gradient descent (SGD).  Most of the code and functionality shown in this tutorial was obtained from [this](https://www.youtube.com/playlist?list=PLXO45tsB95cJHXaDKpbwr5fC_CCYylw1f) excellent YouTube series by Morvan.\n",
    "\n",
    "The code is written to also make use of TensorBoard, which fascilitates visualizing the network as a graph and also to show any parameter, performance statistic or variable of your choosing.  A basic understanding of neural networks is required to follow this tutorial, as well as a working installation of TensorFlow."
   ]
  },
  {
   "cell_type": "markdown",
   "metadata": {
    "deletable": true,
    "editable": true
   },
   "source": [
    "### Linear Regression Using Gradient Descent"
   ]
  },
  {
   "cell_type": "markdown",
   "metadata": {
    "deletable": true,
    "editable": true
   },
   "source": [
    "Firstly, import the necessary modules, initialize the random number generator with a seed and set matplotlib to produce plots inline."
   ]
  },
  {
   "cell_type": "code",
   "execution_count": 1,
   "metadata": {
    "collapsed": false,
    "deletable": true,
    "editable": true
   },
   "outputs": [],
   "source": [
    "import numpy as np\n",
    "import tensorflow as tf\n",
    "import matplotlib.pyplot as plt\n",
    "from IPython import display\n",
    "\n",
    "np.random.seed(1)\n",
    "%matplotlib inline"
   ]
  },
  {
   "cell_type": "markdown",
   "metadata": {
    "deletable": true,
    "editable": true
   },
   "source": [
    "The next step is to generate some data for a straight line.  Adding noise to this data will make it look more realistic."
   ]
  },
  {
   "cell_type": "code",
   "execution_count": 2,
   "metadata": {
    "collapsed": true,
    "deletable": true,
    "editable": true
   },
   "outputs": [],
   "source": [
    "# create x and y arrays for data\n",
    "# specify the slope (m) and y-intercept (c) for the straight line\n",
    "m = 2.0\n",
    "c = 3.0\n",
    "xDat = np.linspace(-1, 1, 300).reshape((-1,1)).astype(np.float32)\n",
    "noise = np.random.normal(0, 0.1, xDat.shape).astype(np.float32)\n",
    "yDat = m*xDat + c + noise"
   ]
  },
  {
   "cell_type": "markdown",
   "metadata": {
    "deletable": true,
    "editable": true
   },
   "source": [
    "We define `x` and `y` placeholders for feeding `xDat` and `yDat` into the TensorFlow graph.  This will come in handy when doing stochastic gradient descent.  For now we only perform full gradient descent, i.e. we consider all of the training data when calculating gradients during each training step.  An \"inputs\" name scope is defined for these placeholders and names are given to each."
   ]
  },
  {
   "cell_type": "code",
   "execution_count": 3,
   "metadata": {
    "collapsed": true,
    "deletable": true,
    "editable": true
   },
   "outputs": [],
   "source": [
    "# define x and y as tf placeholders\n",
    "with tf.name_scope(\"inputs\"):\n",
    "    x = tf.placeholder(np.float32, [None, 1], name='x')\n",
    "    y = tf.placeholder(np.float32, [None, 1], name='y')"
   ]
  },
  {
   "cell_type": "markdown",
   "metadata": {
    "deletable": true,
    "editable": true
   },
   "source": [
    "In order to create conveniently create multiple layers in the network, we will write a function that can sequentially add a single layer to the network.  This way we can add a layer to our network that contains any number of neurons by simply writing a single line of code that calls this function."
   ]
  },
  {
   "cell_type": "code",
   "execution_count": 4,
   "metadata": {
    "collapsed": true,
    "deletable": true,
    "editable": true
   },
   "outputs": [],
   "source": [
    "def addLayer(inputData, inputSize, outputSize, layerNum, activationFunction = None):\n",
    "    \"\"\"\n",
    "    Adds a new layer to the neural network\n",
    "\n",
    "    Incoming parameters\n",
    "    inputData : The tensor that this layer receives from the previous layer (or input layer)\n",
    "    inputSize : Size (number of neurons) of the input from previous layer.\n",
    "    outputSize : Size of the output returned by this layer.  Corresponds to the number of neurons\n",
    "                 in this layer.\n",
    "    layerNum : Layer number for naming the different layers in tensorboard.\n",
    "    activationFunction : Type of activation function to use\n",
    "\n",
    "    Return\n",
    "    outputs : The output tensor after multiplying the input with the weights and adding the biases.\n",
    "    \"\"\"\n",
    "\n",
    "    # name of this layer\n",
    "    layerName = \"layer_%s\"%layerNum\n",
    "\n",
    "    # define the name scope of this layer\n",
    "    with tf.name_scope(layerName):\n",
    "\n",
    "        # initialize weights as a tf variable of size [inputSize, outputSize] \n",
    "        # by randomly sampling from a truncated normal distribution\n",
    "        Weights = tf.Variable(tf.truncated_normal([inputSize, outputSize]), name='Weights')\n",
    "        tf.summary.histogram(\"Weights\", Weights )\n",
    "\n",
    "        # initialize the biases to zero as a tf variable of size [1, outputSize]\n",
    "        biases = tf.Variable(tf.zeros([1, outputSize]), name='biases')\n",
    "        tf.summary.histogram(\"biases\", biases)\n",
    "\n",
    "        # perform matrix multiplication of weights and inputs and add biases\n",
    "        with tf.name_scope(\"Wx_plus_b\"):\n",
    "            Wx_plus_b = tf.matmul(inputData, Weights) + biases\n",
    "\n",
    "        # apply the specified activation function if necessary\n",
    "        if activationFunction is None:\n",
    "            outputData = Wx_plus_b\n",
    "        else:\n",
    "            outputData = activationFunction(Wx_plus_b)\n",
    "\n",
    "        tf.summary.histogram(\"outputs\", outputData)\n",
    "\n",
    "        return outputData"
   ]
  },
  {
   "cell_type": "markdown",
   "metadata": {
    "deletable": true,
    "editable": true
   },
   "source": [
    "The arguments for the addLayer function are explained in the function's documentation.  To make the TensorBoard graph easily readable, it helps to define a name scope for each layer and/or variable which is what the various calls to `tf.name_scope()` in the above function does.  In essence, this function initializes the weights and biases, performs the matrix multiplication and applies the activation function.  The `tf.summary.histogram()` calls are to record values for the weights, biases and outputs (neuron activations) for every step of the training process."
   ]
  },
  {
   "cell_type": "markdown",
   "metadata": {
    "deletable": true,
    "editable": true
   },
   "source": [
    "Next we will add a single layer with one neuron to the network for performing linear regression.  Since a single neuron with one input and one output learns only one weight and one bias, these values serve as the slope and y-intercept for a straight line (noting that the calculation performed inside of the neuron is identical to the equation of a straight line, namely $xW + b$).  Naturally, the output from this single neuron is the predicted y value."
   ]
  },
  {
   "cell_type": "markdown",
   "metadata": {},
   "source": [
    "With a simple call to `addLayer`, we can add a layer with one neuron that takes as input the `x` placeholder."
   ]
  },
  {
   "cell_type": "code",
   "execution_count": 5,
   "metadata": {
    "collapsed": false,
    "deletable": true,
    "editable": true
   },
   "outputs": [],
   "source": [
    "# add output layer\n",
    "prediction = addLayer(x, 1, 1, layerNum=1, activationFunction=None)"
   ]
  },
  {
   "cell_type": "markdown",
   "metadata": {
    "deletable": true,
    "editable": true
   },
   "source": [
    "We now need a loss function that will calculate the error between the ground truth (`yDat`) and the predicted y values (`prediction`).  By minimizing this loss, we will find the best-fit line.  Name scopes for the loss function and training are also defined."
   ]
  },
  {
   "cell_type": "code",
   "execution_count": 6,
   "metadata": {
    "collapsed": true,
    "deletable": true,
    "editable": true
   },
   "outputs": [],
   "source": [
    "# prediction error (loss or cost)\n",
    "with tf.name_scope(\"loss\"):\n",
    "    loss = tf.reduce_mean(tf.square(yDat-prediction), name='loss')\n",
    "    tf.summary.scalar(\"loss\", loss)\n",
    "\n",
    "# training\n",
    "with tf.name_scope(\"train\"):\n",
    "    train = tf.train.GradientDescentOptimizer(0.1).minimize(loss)"
   ]
  },
  {
   "cell_type": "markdown",
   "metadata": {
    "deletable": true,
    "editable": true
   },
   "source": [
    "The `Weights` and `biases` variables need to be initialized before training commences."
   ]
  },
  {
   "cell_type": "code",
   "execution_count": 7,
   "metadata": {
    "collapsed": true,
    "deletable": true,
    "editable": true
   },
   "outputs": [],
   "source": [
    "# initialize variables\n",
    "init = tf.global_variables_initializer()"
   ]
  },
  {
   "cell_type": "markdown",
   "metadata": {
    "deletable": true,
    "editable": true
   },
   "source": [
    "We can now train the network.  We first need to start a TensorFlow session, initialize the variables and run the necessary commands that will record how the training progress for visualizing in TensorBoard.  It is insightful to plot the predicted line during training to see how predictions becomes better.  The values for the weight, bias and loss are also shown."
   ]
  },
  {
   "cell_type": "code",
   "execution_count": 8,
   "metadata": {
    "collapsed": false,
    "deletable": true,
    "editable": true
   },
   "outputs": [
    {
     "data": {
      "image/png": "[encoded data removed]",
      "text/plain": [
       "<matplotlib.figure.Figure at 0x7f30b88b0278>"
      ]
     },
     "metadata": {},
     "output_type": "display_data"
    },
    {
     "data": {
      "image/png": "[encoded data removed]",
      "text/plain": [
       "<matplotlib.figure.Figure at 0x7f30b88b0278>"
      ]
     },
     "metadata": {},
     "output_type": "display_data"
    }
   ],
   "source": [
    "# make a figure and subplot\n",
    "fig = plt.figure(1, figsize=(8,6))\n",
    "ax = fig.add_subplot(1,1,1)\n",
    "\n",
    "# specify the number of training steps\n",
    "nTrain = 151\n",
    "\n",
    "# start a tf session which will only be active until training ends\n",
    "with tf.Session() as sess:\n",
    "    # run the variable initializer\n",
    "    sess.run(init)\n",
    "    # define a file writer that will write the logs to a file in a given directory and merge\n",
    "    writer = tf.summary.FileWriter(\"logs/\", sess.graph)\n",
    "    merged = tf.summary.merge_all()\n",
    "\n",
    "    # train the network by running the train step nTrain times\n",
    "    for i in range(nTrain):\n",
    "        sess.run(train, feed_dict={x:xDat, y:yDat})\n",
    "        summaryResult = sess.run(merged, feed_dict={x:xDat, y:yDat})\n",
    "        writer.add_summary(summaryResult, i)\n",
    "\n",
    "        # plot the current predicted line (with weights and biases) every 5 steps\n",
    "        if (i%5 == 0):\n",
    "            # get predicted values\n",
    "            predictionVals = sess.run(prediction, feed_dict={x:xDat})\n",
    "            lossVal = sess.run(loss, feed_dict={x:xDat, y:yDat})\n",
    "\n",
    "            # plot data and predictions\n",
    "            ax.clear()            \n",
    "            ax.scatter(xDat, yDat)\n",
    "            ax.plot(xDat, predictionVals, ls='-', color='r', lw=3)\n",
    "            weightVar = sess.run( tf.get_collection(tf.GraphKeys.GLOBAL_VARIABLES, \"layer_1/Weights:0\")[0][0][0] )\n",
    "            biasVar = sess.run( tf.get_collection(tf.GraphKeys.GLOBAL_VARIABLES, \"layer_1/biases:0\")[0][0][0] )\n",
    "            plt.text(0.05, 0.9, \"step :  {}\".format(i), transform=ax.transAxes)\n",
    "            plt.text(0.05, 0.85, \"weight (m) = {0:.{1}}\".format(weightVar, 4),transform=ax.transAxes)\n",
    "            plt.text(0.05, 0.8, \"bias (c) = {0:.{1}}\".format(biasVar, 4),transform=ax.transAxes)\n",
    "            plt.text(0.05, 0.75, \"loss = {0:.{1}}\".format(lossVal, 4),transform=ax.transAxes)\n",
    "            display.clear_output(wait=True)\n",
    "            plt.pause(0.05)\n",
    "            display.display(fig)"
   ]
  },
  {
   "cell_type": "markdown",
   "metadata": {
    "collapsed": true,
    "deletable": true,
    "editable": true
   },
   "source": [
    "Durint training, the weight and bias variables should approach the true values for m and c, respectively, as specified earlier.  A log file is create in the directory specified by the summary FileWriter (.logs/ in our case).  This log file is read by TensorBoard to produce a TensorFlow Graph and plots for the loss, weight and bias.  From within the working directory, the following command can be executed using the terminal:\n",
    "```\n",
    "~/current_working_dir$ tensorboard --logdir=\"logs\"\n",
    "```\n",
    "This will produces a link that can be opened in a browser to show the TensorBoard interface.  We show an example of what the graph for this network looks like:\n",
    "![](./graph.png)"
   ]
  }
 ],
 "metadata": {
  "anaconda-cloud": {},
  "kernelspec": {
   "display_name": "Python [default]",
   "language": "python",
   "name": "python3"
  },
  "language_info": {
   "codemirror_mode": {
    "name": "ipython",
    "version": 3
   },
   "file_extension": ".py",
   "mimetype": "text/x-python",
   "name": "python",
   "nbconvert_exporter": "python",
   "pygments_lexer": "ipython3",
   "version": "3.5.3"
  }
 },
 "nbformat": 4,
 "nbformat_minor": 2
}
